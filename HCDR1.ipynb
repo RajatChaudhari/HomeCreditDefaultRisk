{
 "cells": [
  {
   "cell_type": "code",
   "execution_count": 1,
   "metadata": {},
   "outputs": [],
   "source": [
    "import pandas as pd\n",
    "import numpy as np\n",
    "import seaborn as sns\n",
    "import matplotlib.pyplot as plt\n",
    "import scipy as sp\n",
    "import csv\n",
    "\n",
    "%matplotlib inline"
   ]
  },
  {
   "cell_type": "code",
   "execution_count": 2,
   "metadata": {},
   "outputs": [],
   "source": [
    "apptrain=pd.read_csv(\"application_train.csv\")\n",
    "bureau=pd.read_csv(\"bureau.csv\")\n",
    "bbal=pd.read_csv(\"bureau_balance.csv\")\n",
    "ccbal=pd.read_csv(\"credit_card_balance.csv\")\n",
    "innpay=pd.read_csv(\"installments_payments.csv\")\n",
    "POS=pd.read_csv(\"POS_CASH_balance.csv\")\n",
    "old=pd.read_csv(\"previous_application.csv\")"
   ]
  },
  {
   "cell_type": "code",
   "execution_count": null,
   "metadata": {},
   "outputs": [],
   "source": []
  }
 ],
 "metadata": {
  "kernelspec": {
   "display_name": "Python 3",
   "language": "python",
   "name": "python3"
  },
  "language_info": {
   "codemirror_mode": {
    "name": "ipython",
    "version": 3
   },
   "file_extension": ".py",
   "mimetype": "text/x-python",
   "name": "python",
   "nbconvert_exporter": "python",
   "pygments_lexer": "ipython3",
   "version": "3.6.4"
  }
 },
 "nbformat": 4,
 "nbformat_minor": 2
}
