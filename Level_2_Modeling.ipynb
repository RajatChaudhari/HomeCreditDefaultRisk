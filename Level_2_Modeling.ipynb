{
 "cells": [
  {
   "cell_type": "code",
   "execution_count": 1,
   "metadata": {},
   "outputs": [],
   "source": [
    "import pandas as pd\n",
    "import numpy as np\n",
    "import seaborn as sns\n",
    "import matplotlib.pyplot as plt\n",
    "import scipy as sp\n",
    "import csv\n",
    "from sklearn.model_selection import train_test_split,KFold,GridSearchCV\n",
    "from sklearn.linear_model import SGDClassifier\n",
    "from sklearn.decomposition import PCA,IncrementalPCA, FactorAnalysis\n",
    "from sklearn.metrics import accuracy_score\n",
    "from sklearn.metrics import roc_auc_score\n",
    "from sklearn.metrics import precision_score\n",
    "from sklearn.metrics import recall_score\n",
    "from sklearn.model_selection import validation_curve\n",
    "from sklearn.metrics import confusion_matrix\n",
    "from sklearn.metrics import roc_curve, auc\n",
    "from sklearn.metrics import precision_recall_curve\n",
    "from sklearn import preprocessing\n",
    "plt.rcParams['figure.figsize'] = [10, 5]\n",
    "%matplotlib inline\n",
    "\n",
    "from imblearn.over_sampling import SMOTE\n",
    "from sklearn.ensemble import RandomForestClassifier\n",
    "pd.options.display.max_columns = 9999\n",
    "pd.options.display.max_rows = 999999"
   ]
  },
  {
   "cell_type": "code",
   "execution_count": 2,
   "metadata": {},
   "outputs": [],
   "source": [
    "apptrain=pd.read_csv(\"application_train.csv\")\n",
    "apptest=pd.read_csv(\"application_test.csv\")\n",
    "bureau=pd.read_csv(\"bureau.csv\")\n",
    "bbal=pd.read_csv(\"bureau_balance.csv\")\n",
    "ccbal=pd.read_csv(\"credit_card_balance.csv\")\n",
    "innpay=pd.read_csv(\"installments_payments.csv\")\n",
    "POS=pd.read_csv(\"POS_CASH_balance.csv\")\n",
    "old=pd.read_csv(\"previous_application.csv\")\n",
    "final_train_encoded=pd.read_csv(\"apptrain_encoded.csv\")\n",
    "final_test_encoded=pd.read_csv(\"apptest_encoded.csv\")"
   ]
  },
  {
   "cell_type": "code",
   "execution_count": 3,
   "metadata": {},
   "outputs": [],
   "source": [
    "sm=SMOTE(random_state=15,ratio='minority')\n",
    "x_res,y_res=sm.fit_sample(X=final_train_encoded.drop(\"TARGET\",axis=1),y=final_train_encoded[\"TARGET\"])\n"
   ]
  },
  {
   "cell_type": "code",
   "execution_count": 5,
   "metadata": {},
   "outputs": [],
   "source": [
    "min_max_scaler = preprocessing.MinMaxScaler()\n",
    "Xx = min_max_scaler.fit_transform(x_res)"
   ]
  },
  {
   "cell_type": "code",
   "execution_count": 70,
   "metadata": {},
   "outputs": [],
   "source": [
    "X_train, X_test, y_train, y_test = train_test_split(x_res, y_res, test_size=0.33, random_state=42)"
   ]
  },
  {
   "cell_type": "code",
   "execution_count": 71,
   "metadata": {},
   "outputs": [],
   "source": [
    "rfclf = RandomForestClassifier(n_estimators=512,random_state=12)"
   ]
  },
  {
   "cell_type": "code",
   "execution_count": 72,
   "metadata": {},
   "outputs": [
    {
     "data": {
      "text/plain": [
       "RandomForestClassifier(bootstrap=True, class_weight=None, criterion='gini',\n",
       "            max_depth=None, max_features='auto', max_leaf_nodes=None,\n",
       "            min_impurity_decrease=0.0, min_impurity_split=None,\n",
       "            min_samples_leaf=1, min_samples_split=2,\n",
       "            min_weight_fraction_leaf=0.0, n_estimators=512, n_jobs=1,\n",
       "            oob_score=False, random_state=12, verbose=0, warm_start=False)"
      ]
     },
     "execution_count": 72,
     "metadata": {},
     "output_type": "execute_result"
    }
   ],
   "source": [
    "rfclf.fit(X_train, y_train)"
   ]
  },
  {
   "cell_type": "code",
   "execution_count": 10,
   "metadata": {},
   "outputs": [],
   "source": [
    "important=rfclf.feature_importances_"
   ]
  },
  {
   "cell_type": "code",
   "execution_count": 13,
   "metadata": {},
   "outputs": [],
   "source": [
    "indices = np.argsort(important)[::-1]  #IMPORTANT STEP"
   ]
  },
  {
   "cell_type": "code",
   "execution_count": 17,
   "metadata": {},
   "outputs": [],
   "source": [
    "std = np.std([tree.feature_importances_ for tree in rfclf.estimators_],\n",
    "             axis=0)"
   ]
  },
  {
   "cell_type": "code",
   "execution_count": 187,
   "metadata": {},
   "outputs": [
    {
     "name": "stdout",
     "output_type": "stream",
     "text": [
      "1. feature 107 CODE_GENDER_F (0.037204)\n",
      "2. feature 246 EMERGENCYSTATE_MODE_No (0.020708)\n",
      "3. feature 30 EXT_SOURCE_3 (0.034224)\n",
      "4. feature 132 NAME_EDUCATION_TYPE_Secondary / secondary special (0.024277)\n",
      "5. feature 134 NAME_FAMILY_STATUS_Married (0.022452)\n",
      "6. feature 109 FLAG_OWN_CAR_N (0.024032)\n",
      "7. feature 234 HOUSETYPE_MODE_block of flats (0.019415)\n",
      "8. feature 127 NAME_INCOME_TYPE_Working (0.017825)\n",
      "9. feature 29 EXT_SOURCE_2 (0.025061)\n",
      "10. feature 26 REG_CITY_NOT_WORK_CITY (0.014716)\n",
      "11. feature 16 FLAG_PHONE (0.015642)\n",
      "12. feature 129 NAME_EDUCATION_TYPE_Higher education (0.022140)\n",
      "13. feature 80 FLAG_DOCUMENT_3 (0.010149)\n",
      "14. feature 242 WALLSMATERIAL_MODE_Panel (0.011762)\n",
      "15. feature 20 REGION_RATING_CLIENT_W_CITY (0.012193)\n",
      "16. feature 111 FLAG_OWN_REALTY_N (0.013479)\n",
      "17. feature 1 CNT_CHILDREN (0.009104)\n",
      "18. feature 108 CODE_GENDER_M (0.035144)\n",
      "19. feature 175 ORGANIZATION_TYPE_Business Entity Type 3 (0.007819)\n",
      "20. feature 19 REGION_RATING_CLIENT (0.012491)\n",
      "21. feature 152 OCCUPATION_TYPE_Laborers (0.009590)\n",
      "22. feature 238 WALLSMATERIAL_MODE_Missing (0.023244)\n",
      "23. feature 25 REG_CITY_NOT_LIVE_CITY (0.005375)\n",
      "24. feature 28 EXT_SOURCE_1 (0.009672)\n",
      "25. feature 75 DEF_30_CNT_SOCIAL_CIRCLE (0.004355)\n",
      "26. feature 228 FONDKAPREMONT_MODE_Missing (0.015433)\n",
      "27. feature 14 FLAG_WORK_PHONE (0.006848)\n",
      "28. feature 83 FLAG_DOCUMENT_6 (0.001885)\n",
      "29. feature 74 OBS_30_CNT_SOCIAL_CIRCLE (0.012235)\n",
      "30. feature 212 ORGANIZATION_TYPE_Self-employed (0.003909)\n",
      "31. feature 159 OCCUPATION_TYPE_Sales staff (0.003130)\n",
      "32. feature 231 FONDKAPREMONT_MODE_reg oper account (0.009233)\n",
      "33. feature 7 DAYS_BIRTH (0.007162)\n",
      "34. feature 110 FLAG_OWN_CAR_Y (0.023154)\n",
      "35. feature 76 OBS_60_CNT_SOCIAL_CIRCLE (0.011567)\n",
      "36. feature 4 AMT_ANNUITY (0.006178)\n",
      "37. feature 8 DAYS_EMPLOYED (0.005604)\n",
      "38. feature 3 AMT_CREDIT (0.006158)\n",
      "39. feature 10 DAYS_ID_PUBLISH (0.006882)\n",
      "40. feature 120 NAME_TYPE_SUITE_Unaccompanied (0.006160)\n",
      "41. feature 78 DAYS_LAST_PHONE_CHANGE (0.006536)\n",
      "42. feature 168 WEEKDAY_APPR_PROCESS_START_TUESDAY (0.004874)\n",
      "43. feature 103 AMT_REQ_CREDIT_BUREAU_QRT (0.001897)\n",
      "44. feature 9 DAYS_REGISTRATION (0.006395)\n",
      "45. feature 0 SK_ID_CURR (0.006645)\n",
      "46. feature 5 AMT_GOODS_PRICE (0.005591)\n",
      "47. feature 77 DEF_60_CNT_SOCIAL_CIRCLE (0.002842)\n",
      "48. feature 139 NAME_HOUSING_TYPE_House / apartment (0.003508)\n",
      "49. feature 2 AMT_INCOME_TOTAL (0.005770)\n",
      "50. feature 6 REGION_POPULATION_RELATIVE (0.006522)\n",
      "51. feature 104 AMT_REQ_CREDIT_BUREAU_YEAR (0.007508)\n",
      "52. feature 167 WEEKDAY_APPR_PROCESS_START_THURSDAY (0.004999)\n",
      "53. feature 164 WEEKDAY_APPR_PROCESS_START_MONDAY (0.005571)\n",
      "54. feature 18 CNT_FAM_MEMBERS (0.012740)\n",
      "55. feature 148 OCCUPATION_TYPE_Drivers (0.002728)\n",
      "56. feature 21 HOUR_APPR_PROCESS_START (0.005255)\n",
      "57. feature 169 WEEKDAY_APPR_PROCESS_START_WEDNESDAY (0.004802)\n",
      "58. feature 52 FLOORSMAX_MODE (0.007433)\n",
      "59. feature 11 OWN_CAR_AGE (0.006984)\n",
      "60. feature 243 WALLSMATERIAL_MODE_Stone, brick (0.008921)\n",
      "61. feature 233 HOUSETYPE_MODE_Missing (0.022274)\n",
      "62. feature 27 LIVE_CITY_NOT_WORK_CITY (0.009572)\n",
      "63. feature 102 AMT_REQ_CREDIT_BUREAU_MON (0.001828)\n",
      "64. feature 163 WEEKDAY_APPR_PROCESS_START_FRIDAY (0.004945)\n",
      "65. feature 73 TOTALAREA_MODE (0.006238)\n",
      "66. feature 165 WEEKDAY_APPR_PROCESS_START_SATURDAY (0.002370)\n",
      "67. feature 136 NAME_FAMILY_STATUS_Single / not married (0.006088)\n",
      "68. feature 147 OCCUPATION_TYPE_Core staff (0.001750)\n",
      "69. feature 177 ORGANIZATION_TYPE_Construction (0.000649)\n",
      "70. feature 40 LANDAREA_AVG (0.002170)\n",
      "71. feature 156 OCCUPATION_TYPE_Missing (0.003064)\n",
      "72. feature 54 LANDAREA_MODE (0.002152)\n",
      "73. feature 33 YEARS_BEGINEXPLUATATION_AVG (0.003481)\n",
      "74. feature 32 BASEMENTAREA_AVG (0.002174)\n",
      "75. feature 56 LIVINGAREA_MODE (0.005209)\n",
      "76. feature 47 YEARS_BEGINEXPLUATATION_MODE (0.004541)\n",
      "77. feature 31 APARTMENTS_AVG (0.003714)\n",
      "78. feature 45 APARTMENTS_MODE (0.003786)\n",
      "79. feature 46 BASEMENTAREA_MODE (0.001877)\n",
      "80. feature 137 NAME_FAMILY_STATUS_Widow (0.001420)\n",
      "81. feature 114 NAME_TYPE_SUITE_Family (0.003790)\n",
      "82. feature 35 COMMONAREA_AVG (0.002113)\n",
      "83. feature 44 NONLIVINGAREA_AVG (0.005658)\n",
      "84. feature 42 LIVINGAREA_AVG (0.004439)\n",
      "85. feature 58 NONLIVINGAREA_MODE (0.006374)\n",
      "86. feature 245 EMERGENCYSTATE_MODE_Missing (0.021466)\n",
      "87. feature 66 FLOORSMAX_MEDI (0.007863)\n",
      "88. feature 34 YEARS_BUILD_AVG (0.001978)\n",
      "89. feature 49 COMMONAREA_MODE (0.002034)\n",
      "90. feature 124 NAME_INCOME_TYPE_State servant (0.001507)\n",
      "91. feature 51 ENTRANCES_MODE (0.004078)\n",
      "92. feature 41 LIVINGAPARTMENTS_AVG (0.002394)\n",
      "93. feature 122 NAME_INCOME_TYPE_Commercial associate (0.009611)\n",
      "94. feature 57 NONLIVINGAPARTMENTS_MODE (0.007096)\n",
      "95. feature 38 FLOORSMAX_AVG (0.006793)\n",
      "96. feature 105 NAME_CONTRACT_TYPE_Cash loans (0.000595)\n",
      "97. feature 55 LIVINGAPARTMENTS_MODE (0.002135)\n",
      "98. feature 37 ENTRANCES_AVG (0.003044)\n",
      "99. feature 133 NAME_FAMILY_STATUS_Civil marriage (0.004168)\n",
      "100. feature 61 YEARS_BEGINEXPLUATATION_MEDI (0.003486)\n",
      "101. feature 48 YEARS_BUILD_MODE (0.001575)\n",
      "102. feature 60 BASEMENTAREA_MEDI (0.002286)\n",
      "103. feature 68 LANDAREA_MEDI (0.001878)\n",
      "104. feature 72 NONLIVINGAREA_MEDI (0.007898)\n",
      "105. feature 43 NONLIVINGAPARTMENTS_AVG (0.005336)\n",
      "106. feature 59 APARTMENTS_MEDI (0.003704)\n",
      "107. feature 166 WEEKDAY_APPR_PROCESS_START_SUNDAY (0.000925)\n",
      "108. feature 140 NAME_HOUSING_TYPE_Municipal apartment (0.000756)\n",
      "109. feature 39 FLOORSMIN_AVG (0.002954)\n",
      "110. feature 63 COMMONAREA_MEDI (0.002423)\n",
      "111. feature 70 LIVINGAREA_MEDI (0.004590)\n",
      "112. feature 130 NAME_EDUCATION_TYPE_Incomplete higher (0.001164)\n",
      "113. feature 144 OCCUPATION_TYPE_Accountants (0.000347)\n",
      "114. feature 36 ELEVATORS_AVG (0.007849)\n",
      "115. feature 50 ELEVATORS_MODE (0.007929)\n",
      "116. feature 135 NAME_FAMILY_STATUS_Separated (0.001934)\n",
      "117. feature 131 NAME_EDUCATION_TYPE_Lower secondary (0.000653)\n",
      "118. feature 69 LIVINGAPARTMENTS_MEDI (0.001703)\n",
      "119. feature 53 FLOORSMIN_MODE (0.003855)\n",
      "120. feature 161 OCCUPATION_TYPE_Security staff (0.000562)\n",
      "121. feature 224 ORGANIZATION_TYPE_Transport: type 3 (0.000268)\n",
      "122. feature 106 NAME_CONTRACT_TYPE_Revolving loans (0.000617)\n",
      "123. feature 23 REG_REGION_NOT_WORK_REGION (0.000832)\n",
      "124. feature 101 AMT_REQ_CREDIT_BUREAU_WEEK (0.000538)\n",
      "125. feature 112 FLAG_OWN_REALTY_Y (0.013346)\n",
      "126. feature 85 FLAG_DOCUMENT_8 (0.002507)\n",
      "127. feature 64 ELEVATORS_MEDI (0.008064)\n",
      "128. feature 209 ORGANIZATION_TYPE_School (0.000428)\n",
      "129. feature 181 ORGANIZATION_TYPE_Government (0.000517)\n",
      "130. feature 62 YEARS_BUILD_MEDI (0.001568)\n",
      "131. feature 225 ORGANIZATION_TYPE_Transport: type 4 (0.000426)\n",
      "132. feature 143 NAME_HOUSING_TYPE_With parents (0.001271)\n",
      "133. feature 150 OCCUPATION_TYPE_High skill tech staff (0.000472)\n",
      "134. feature 203 ORGANIZATION_TYPE_Other (0.000827)\n",
      "135. feature 154 OCCUPATION_TYPE_Managers (0.000755)\n",
      "136. feature 153 OCCUPATION_TYPE_Low-skill Laborers (0.000362)\n",
      "137. feature 65 ENTRANCES_MEDI (0.003541)\n",
      "138. feature 208 ORGANIZATION_TYPE_Restaurant (0.000260)\n",
      "139. feature 142 NAME_HOUSING_TYPE_Rented apartment (0.000551)\n",
      "140. feature 17 FLAG_EMAIL (0.000767)\n",
      "141. feature 201 ORGANIZATION_TYPE_Military (0.000129)\n",
      "142. feature 237 WALLSMATERIAL_MODE_Block (0.000603)\n",
      "143. feature 221 ORGANIZATION_TYPE_Trade: type 7 (0.000570)\n",
      "144. feature 82 FLAG_DOCUMENT_5 (0.000335)\n",
      "145. feature 118 NAME_TYPE_SUITE_Other_B (0.000235)\n",
      "146. feature 95 FLAG_DOCUMENT_18 (0.000130)\n",
      "147. feature 206 ORGANIZATION_TYPE_Realtor (0.000095)\n",
      "148. feature 93 FLAG_DOCUMENT_16 (0.000135)\n",
      "149. feature 100 AMT_REQ_CREDIT_BUREAU_DAY (0.000212)\n",
      "150. feature 174 ORGANIZATION_TYPE_Business Entity Type 2 (0.000604)\n",
      "151. feature 145 OCCUPATION_TYPE_Cleaning staff (0.000416)\n",
      "152. feature 119 NAME_TYPE_SUITE_Spouse, partner (0.000734)\n",
      "153. feature 198 ORGANIZATION_TYPE_Kindergarten (0.000378)\n",
      "154. feature 113 NAME_TYPE_SUITE_Children (0.000334)\n",
      "155. feature 67 FLOORSMIN_MEDI (0.003260)\n",
      "156. feature 24 LIVE_REGION_NOT_WORK_REGION (0.000703)\n",
      "157. feature 71 NONLIVINGAPARTMENTS_MEDI (0.005227)\n",
      "158. feature 232 FONDKAPREMONT_MODE_reg oper spec account (0.000771)\n",
      "159. feature 230 FONDKAPREMONT_MODE_org spec account (0.000273)\n",
      "160. feature 217 ORGANIZATION_TYPE_Trade: type 3 (0.000338)\n",
      "161. feature 200 ORGANIZATION_TYPE_Medicine (0.000530)\n",
      "162. feature 196 ORGANIZATION_TYPE_Industry: type 9 (0.000196)\n",
      "163. feature 155 OCCUPATION_TYPE_Medicine staff (0.000437)\n",
      "164. feature 205 ORGANIZATION_TYPE_Postal (0.000227)\n",
      "165. feature 162 OCCUPATION_TYPE_Waiters/barmen staff (0.000214)\n",
      "166. feature 138 NAME_HOUSING_TYPE_Co-op apartment (0.000129)\n",
      "167. feature 22 REG_REGION_NOT_LIVE_REGION (0.000360)\n",
      "168. feature 99 AMT_REQ_CREDIT_BUREAU_HOUR (0.000163)\n",
      "169. feature 157 OCCUPATION_TYPE_Private service staff (0.000184)\n",
      "170. feature 191 ORGANIZATION_TYPE_Industry: type 4 (0.000133)\n",
      "171. feature 202 ORGANIZATION_TYPE_Mobile (0.000051)\n",
      "172. feature 141 NAME_HOUSING_TYPE_Office apartment (0.000201)\n",
      "173. feature 204 ORGANIZATION_TYPE_Police (0.000135)\n",
      "174. feature 229 FONDKAPREMONT_MODE_not specified (0.000289)\n",
      "175. feature 171 ORGANIZATION_TYPE_Agriculture (0.000283)\n",
      "176. feature 146 OCCUPATION_TYPE_Cooking staff (0.000507)\n",
      "177. feature 126 NAME_INCOME_TYPE_Unemployed (0.000035)\n",
      "178. feature 223 ORGANIZATION_TYPE_Transport: type 2 (0.000179)\n",
      "179. feature 117 NAME_TYPE_SUITE_Other_A (0.000104)\n",
      "180. feature 184 ORGANIZATION_TYPE_Industry: type 1 (0.000141)\n",
      "181. feature 241 WALLSMATERIAL_MODE_Others (0.000124)\n",
      "182. feature 186 ORGANIZATION_TYPE_Industry: type 11 (0.000255)\n",
      "183. feature 183 ORGANIZATION_TYPE_Housing (0.000245)\n",
      "184. feature 173 ORGANIZATION_TYPE_Business Entity Type 1 (0.000369)\n",
      "185. feature 226 ORGANIZATION_TYPE_University (0.000103)\n",
      "186. feature 190 ORGANIZATION_TYPE_Industry: type 3 (0.000370)\n",
      "187. feature 197 ORGANIZATION_TYPE_Insurance (0.000071)\n",
      "188. feature 86 FLAG_DOCUMENT_9 (0.000109)\n",
      "189. feature 199 ORGANIZATION_TYPE_Legal Services (0.000050)\n",
      "190. feature 172 ORGANIZATION_TYPE_Bank (0.000143)\n",
      "191. feature 235 HOUSETYPE_MODE_specific housing (0.000223)\n",
      "192. feature 178 ORGANIZATION_TYPE_Culture (0.000057)\n",
      "193. feature 91 FLAG_DOCUMENT_14 (0.000040)\n",
      "194. feature 176 ORGANIZATION_TYPE_Cleaning (0.000060)\n",
      "195. feature 239 WALLSMATERIAL_MODE_Mixed (0.000154)\n",
      "196. feature 90 FLAG_DOCUMENT_13 (0.000038)\n",
      "197. feature 216 ORGANIZATION_TYPE_Trade: type 2 (0.000142)\n",
      "198. feature 182 ORGANIZATION_TYPE_Hotel (0.000098)\n",
      "199. feature 244 WALLSMATERIAL_MODE_Wooden (0.000352)\n",
      "200. feature 210 ORGANIZATION_TYPE_Security (0.000271)\n",
      "201. feature 240 WALLSMATERIAL_MODE_Monolithic (0.000095)\n",
      "202. feature 13 FLAG_EMP_PHONE (0.000391)\n",
      "203. feature 160 OCCUPATION_TYPE_Secretaries (0.000116)\n",
      "204. feature 79 FLAG_DOCUMENT_2 (0.000015)\n",
      "205. feature 187 ORGANIZATION_TYPE_Industry: type 12 (0.000032)\n",
      "206. feature 88 FLAG_DOCUMENT_11 (0.000069)\n",
      "207. feature 180 ORGANIZATION_TYPE_Emergency (0.000072)\n",
      "208. feature 194 ORGANIZATION_TYPE_Industry: type 7 (0.000143)\n",
      "209. feature 211 ORGANIZATION_TYPE_Security Ministries (0.000105)\n",
      "210. feature 213 ORGANIZATION_TYPE_Services (0.000128)\n",
      "211. feature 92 FLAG_DOCUMENT_15 (0.000018)\n",
      "212. feature 214 ORGANIZATION_TYPE_Telecom (0.000082)\n",
      "213. feature 247 EMERGENCYSTATE_MODE_Yes (0.000340)\n",
      "214. feature 215 ORGANIZATION_TYPE_Trade: type 1 (0.000054)\n",
      "215. feature 128 NAME_EDUCATION_TYPE_Academic degree (0.000006)\n",
      "216. feature 189 ORGANIZATION_TYPE_Industry: type 2 (0.000055)\n",
      "217. feature 170 ORGANIZATION_TYPE_Advertising (0.000050)\n",
      "218. feature 151 OCCUPATION_TYPE_IT staff (0.000043)\n",
      "219. feature 236 HOUSETYPE_MODE_terraced house (0.000142)\n",
      "220. feature 15 FLAG_CONT_MOBILE (0.000057)\n",
      "221. feature 98 FLAG_DOCUMENT_21 (0.000023)\n",
      "222. feature 179 ORGANIZATION_TYPE_Electricity (0.000091)\n",
      "223. feature 192 ORGANIZATION_TYPE_Industry: type 5 (0.000075)\n",
      "224. feature 220 ORGANIZATION_TYPE_Trade: type 6 (0.000058)\n",
      "225. feature 115 NAME_TYPE_SUITE_Group of people (0.000042)\n",
      "226. feature 207 ORGANIZATION_TYPE_Religion (0.000005)\n",
      "227. feature 96 FLAG_DOCUMENT_19 (0.000018)\n",
      "228. feature 116 NAME_TYPE_SUITE_Missing (0.000104)\n",
      "229. feature 219 ORGANIZATION_TYPE_Trade: type 5 (0.000006)\n",
      "230. feature 12 FLAG_MOBIL (0.000000)\n",
      "231. feature 222 ORGANIZATION_TYPE_Transport: type 1 (0.000022)\n",
      "232. feature 195 ORGANIZATION_TYPE_Industry: type 8 (0.000005)\n",
      "233. feature 193 ORGANIZATION_TYPE_Industry: type 6 (0.000020)\n",
      "234. feature 227 ORGANIZATION_TYPE_XNA (0.000407)\n",
      "235. feature 218 ORGANIZATION_TYPE_Trade: type 4 (0.000005)\n",
      "236. feature 81 FLAG_DOCUMENT_4 (0.000000)\n",
      "237. feature 188 ORGANIZATION_TYPE_Industry: type 13 (0.000013)\n",
      "238. feature 185 ORGANIZATION_TYPE_Industry: type 10 (0.000012)\n",
      "239. feature 84 FLAG_DOCUMENT_7 (0.000006)\n",
      "240. feature 158 OCCUPATION_TYPE_Realty agents (0.000085)\n",
      "241. feature 149 OCCUPATION_TYPE_HR staff (0.000042)\n",
      "242. feature 125 NAME_INCOME_TYPE_Student (0.000000)\n",
      "243. feature 121 NAME_INCOME_TYPE_Businessman (0.000000)\n",
      "244. feature 97 FLAG_DOCUMENT_20 (0.000020)\n",
      "245. feature 94 FLAG_DOCUMENT_17 (0.000003)\n",
      "246. feature 89 FLAG_DOCUMENT_12 (0.000000)\n",
      "247. feature 87 FLAG_DOCUMENT_10 (0.000000)\n",
      "248. feature 123 NAME_INCOME_TYPE_Pensioner (0.000377)\n"
     ]
    }
   ],
   "source": [
    "for f in range(X_train.shape[1]):\n",
    "    print(\"%d. %d %s (%f)\" % (f + 1, indices[f] , final_train_encoded.columns[indices[f]], important[indices[f]]))\n"
   ]
  },
  {
   "cell_type": "code",
   "execution_count": 177,
   "metadata": {},
   "outputs": [
    {
     "data": {
      "image/png": "[encoded data removed]",
      "text/plain": [
       "<Figure size 432x288 with 1 Axes>"
      ]
     },
     "metadata": {},
     "output_type": "display_data"
    }
   ],
   "source": [
    "# Plot the feature importances of the forest\n",
    "plt.figure()\n",
    "plt.title(\"Feature importances\")\n",
    "plt.bar(range(X_train.shape[1]), important[indices],\n",
    "       color=\"r\", yerr=std[indices], align=\"center\")\n",
    "plt.xticks(range(X_train.shape[1]), indices)\n",
    "plt.xlim([-1, X_train.shape[1]])\n",
    "plt.show()"
   ]
  },
  {
   "cell_type": "code",
   "execution_count": 73,
   "metadata": {},
   "outputs": [],
   "source": [
    "probs = rfclf.predict(X_test)"
   ]
  },
  {
   "cell_type": "code",
   "execution_count": 42,
   "metadata": {},
   "outputs": [
    {
     "data": {
      "text/plain": [
       "0.9558242618170903"
      ]
     },
     "execution_count": 42,
     "metadata": {},
     "output_type": "execute_result"
    }
   ],
   "source": [
    "accuracy_score(y_test, probs)"
   ]
  },
  {
   "cell_type": "code",
   "execution_count": 43,
   "metadata": {},
   "outputs": [
    {
     "data": {
      "text/plain": [
       "0.9557846850423269"
      ]
     },
     "execution_count": 43,
     "metadata": {},
     "output_type": "execute_result"
    }
   ],
   "source": [
    "roc_auc_score(y_test,probs)"
   ]
  },
  {
   "cell_type": "code",
   "execution_count": 44,
   "metadata": {},
   "outputs": [
    {
     "data": {
      "text/plain": [
       "array([[93370,     0],\n",
       "       [ 8242, 84961]], dtype=int64)"
      ]
     },
     "execution_count": 44,
     "metadata": {},
     "output_type": "execute_result"
    }
   ],
   "source": [
    "confusion_matrix(y_test,probs)"
   ]
  },
  {
   "cell_type": "code",
   "execution_count": 45,
   "metadata": {},
   "outputs": [],
   "source": [
    "#preds = probs[:,1]\n",
    "fpr, tpr, threshold = roc_curve(y_test, probs)\n",
    "roc_auc = auc(fpr, tpr)"
   ]
  },
  {
   "cell_type": "code",
   "execution_count": 46,
   "metadata": {},
   "outputs": [
    {
     "data": {
      "text/plain": [
       "Text(0.5,0,'False Positive Rate')"
      ]
     },
     "execution_count": 46,
     "metadata": {},
     "output_type": "execute_result"
    },
    {
     "data": {
      "image/png": "[encoded data removed]",
      "text/plain": [
       "<Figure size 432x288 with 1 Axes>"
      ]
     },
     "metadata": {},
     "output_type": "display_data"
    }
   ],
   "source": [
    "plt.title('Receiver Operating Characteristic')\n",
    "plt.plot(fpr, tpr, 'b', label = 'AUC = %0.2f' % roc_auc)\n",
    "plt.legend(loc = 'lower right')\n",
    "plt.plot([0, 1], [0, 1],'r--')\n",
    "plt.xlim([0, 1])\n",
    "plt.ylim([0, 1])\n",
    "plt.ylabel('True Positive Rate')\n",
    "plt.xlabel('False Positive Rate')"
   ]
  },
  {
   "cell_type": "code",
   "execution_count": 74,
   "metadata": {},
   "outputs": [],
   "source": [
    "probs = rfclf.predict_proba(final_test_encoded)"
   ]
  },
  {
   "cell_type": "code",
   "execution_count": 75,
   "metadata": {},
   "outputs": [],
   "source": [
    "Submission=pd.DataFrame({'SK_ID_CURR':final_test_encoded.SK_ID_CURR,'TARGET':probs[:,1].round(1)})\n"
   ]
  },
  {
   "cell_type": "code",
   "execution_count": 76,
   "metadata": {},
   "outputs": [
    {
     "data": {
      "text/html": [
       "<div>\n",
       "<style scoped>\n",
       "    .dataframe tbody tr th:only-of-type {\n",
       "        vertical-align: middle;\n",
       "    }\n",
       "\n",
       "    .dataframe tbody tr th {\n",
       "        vertical-align: top;\n",
       "    }\n",
       "\n",
       "    .dataframe thead th {\n",
       "        text-align: right;\n",
       "    }\n",
       "</style>\n",
       "<table border=\"1\" class=\"dataframe\">\n",
       "  <thead>\n",
       "    <tr style=\"text-align: right;\">\n",
       "      <th></th>\n",
       "      <th>SK_ID_CURR</th>\n",
       "      <th>TARGET</th>\n",
       "    </tr>\n",
       "  </thead>\n",
       "  <tbody>\n",
       "    <tr>\n",
       "      <th>0</th>\n",
       "      <td>100001</td>\n",
       "      <td>0.2</td>\n",
       "    </tr>\n",
       "    <tr>\n",
       "      <th>1</th>\n",
       "      <td>100005</td>\n",
       "      <td>0.5</td>\n",
       "    </tr>\n",
       "    <tr>\n",
       "      <th>2</th>\n",
       "      <td>100013</td>\n",
       "      <td>0.4</td>\n",
       "    </tr>\n",
       "    <tr>\n",
       "      <th>3</th>\n",
       "      <td>100028</td>\n",
       "      <td>0.1</td>\n",
       "    </tr>\n",
       "    <tr>\n",
       "      <th>4</th>\n",
       "      <td>100038</td>\n",
       "      <td>0.4</td>\n",
       "    </tr>\n",
       "  </tbody>\n",
       "</table>\n",
       "</div>"
      ],
      "text/plain": [
       "   SK_ID_CURR  TARGET\n",
       "0      100001     0.2\n",
       "1      100005     0.5\n",
       "2      100013     0.4\n",
       "3      100028     0.1\n",
       "4      100038     0.4"
      ]
     },
     "execution_count": 76,
     "metadata": {},
     "output_type": "execute_result"
    }
   ],
   "source": [
    "Submission.head()"
   ]
  },
  {
   "cell_type": "code",
   "execution_count": 77,
   "metadata": {},
   "outputs": [],
   "source": [
    "Submission.to_csv(\"Submission_RF.csv\",sep=',',encoding='utf-8',index=False)"
   ]
  },
  {
   "cell_type": "code",
   "execution_count": null,
   "metadata": {},
   "outputs": [],
   "source": []
  },
  {
   "cell_type": "code",
   "execution_count": 60,
   "metadata": {},
   "outputs": [],
   "source": [
    "import lightgbm as lgb"
   ]
  },
  {
   "cell_type": "code",
   "execution_count": 61,
   "metadata": {},
   "outputs": [],
   "source": [
    "sm=SMOTE(random_state=15,ratio='minority')\n",
    "x_res,y_res=sm.fit_sample(X=final_train_encoded.drop(\"TARGET\",axis=1),y=final_train_encoded[\"TARGET\"])"
   ]
  },
  {
   "cell_type": "code",
   "execution_count": 62,
   "metadata": {},
   "outputs": [],
   "source": [
    "min_max_scaler = preprocessing.MinMaxScaler()\n",
    "Xx = min_max_scaler.fit_transform(x_res)"
   ]
  },
  {
   "cell_type": "code",
   "execution_count": 114,
   "metadata": {},
   "outputs": [],
   "source": [
    "X_train, X_test, y_train, y_test = train_test_split(Xx, y_res, test_size=0.33, random_state=42)"
   ]
  },
  {
   "cell_type": "code",
   "execution_count": 115,
   "metadata": {},
   "outputs": [],
   "source": [
    "train_data = lgb.Dataset(data=X_train,label=y_train)"
   ]
  },
  {
   "cell_type": "code",
   "execution_count": 116,
   "metadata": {},
   "outputs": [],
   "source": [
    "param = {'num_leaves':128, 'num_trees':1024, 'objective':'binary'}\n",
    "param['metric'] = ['roc_curve','binary_logloss']"
   ]
  },
  {
   "cell_type": "code",
   "execution_count": 169,
   "metadata": {},
   "outputs": [],
   "source": [
    "#EVALUATING \n",
    "\n",
    "bst = lgb.train(param, train_data, num_boost_round=200)"
   ]
  },
  {
   "cell_type": "code",
   "execution_count": 170,
   "metadata": {},
   "outputs": [],
   "source": [
    "#EVALUATING\n",
    "ypred = bst.predict(X_test)"
   ]
  },
  {
   "cell_type": "code",
   "execution_count": 171,
   "metadata": {},
   "outputs": [
    {
     "data": {
      "text/plain": [
       "0.9558135421524014"
      ]
     },
     "execution_count": 171,
     "metadata": {},
     "output_type": "execute_result"
    }
   ],
   "source": [
    "accuracy_score(y_test, np.round(ypred))"
   ]
  },
  {
   "cell_type": "code",
   "execution_count": 172,
   "metadata": {},
   "outputs": [
    {
     "data": {
      "text/plain": [
       "0.9557769398481306"
      ]
     },
     "execution_count": 172,
     "metadata": {},
     "output_type": "execute_result"
    }
   ],
   "source": [
    "roc_auc_score(y_test,np.round(ypred))"
   ]
  },
  {
   "cell_type": "code",
   "execution_count": 173,
   "metadata": {},
   "outputs": [
    {
     "data": {
      "text/plain": [
       "array([[93059,   311],\n",
       "       [ 7933, 85270]], dtype=int64)"
      ]
     },
     "execution_count": 173,
     "metadata": {},
     "output_type": "execute_result"
    }
   ],
   "source": [
    "confusion_matrix(y_test,np.round(ypred))"
   ]
  },
  {
   "cell_type": "code",
   "execution_count": 174,
   "metadata": {},
   "outputs": [
    {
     "data": {
      "image/png": "[encoded data removed]",
      "text/plain": [
       "<Figure size 432x288 with 1 Axes>"
      ]
     },
     "metadata": {},
     "output_type": "display_data"
    }
   ],
   "source": [
    "fpr, tpr, thresholdsValid = roc_curve(y_test,np.round(ypred))\n",
    "plt.plot(fpr, tpr, label='LightGBM')\n",
    "plt.legend()\n",
    "plt.plot([0, 1], [0, 1],'r--')\n",
    "plt.ylabel('True positive rate.')\n",
    "plt.xlabel('False positive rate')\n",
    "plt.show()"
   ]
  },
  {
   "cell_type": "code",
   "execution_count": 181,
   "metadata": {},
   "outputs": [
    {
     "data": {
      "image/png": "[encoded data removed]",
      "text/plain": [
       "<Figure size 432x288 with 1 Axes>"
      ]
     },
     "metadata": {},
     "output_type": "display_data"
    }
   ],
   "source": [
    "ax = lgb.plot_importance(bst, max_num_features=30,importance_type='gain')\n",
    "plt.show()"
   ]
  },
  {
   "cell_type": "code",
   "execution_count": 191,
   "metadata": {},
   "outputs": [],
   "source": [
    "indices = np.argsort(bst.feature_importance(\"gain\"))[::-1] "
   ]
  },
  {
   "cell_type": "code",
   "execution_count": 193,
   "metadata": {},
   "outputs": [],
   "source": [
    "indices2 = np.argsort(bst.feature_importance(\"split\"))[::-1]"
   ]
  },
  {
   "cell_type": "code",
   "execution_count": 192,
   "metadata": {},
   "outputs": [
    {
     "name": "stdout",
     "output_type": "stream",
     "text": [
      "1. 107 CODE_GENDER_F (328545.077180)\n",
      "2. 246 EMERGENCYSTATE_MODE_No (254939.027501)\n",
      "3. 30 EXT_SOURCE_3 (234938.495695)\n",
      "4. 132 NAME_EDUCATION_TYPE_Secondary / secondary special (212336.727769)\n",
      "5. 134 NAME_FAMILY_STATUS_Married (129498.881888)\n",
      "6. 109 FLAG_OWN_CAR_N (107400.061148)\n",
      "7. 234 HOUSETYPE_MODE_block of flats (99088.497221)\n",
      "8. 127 NAME_INCOME_TYPE_Working (88812.459273)\n",
      "9. 29 EXT_SOURCE_2 (80923.057400)\n",
      "10. 26 REG_CITY_NOT_WORK_CITY (60955.824030)\n",
      "11. 16 FLAG_PHONE (59217.137010)\n",
      "12. 129 NAME_EDUCATION_TYPE_Higher education (57302.970129)\n",
      "13. 80 FLAG_DOCUMENT_3 (51510.461089)\n",
      "14. 242 WALLSMATERIAL_MODE_Panel (38144.026199)\n",
      "15. 20 REGION_RATING_CLIENT_W_CITY (29495.328794)\n",
      "16. 111 FLAG_OWN_REALTY_N (28776.507862)\n",
      "17. 1 CNT_CHILDREN (27277.008663)\n",
      "18. 108 CODE_GENDER_M (25142.773817)\n",
      "19. 175 ORGANIZATION_TYPE_Business Entity Type 3 (24924.790078)\n",
      "20. 19 REGION_RATING_CLIENT (23725.598538)\n",
      "21. 152 OCCUPATION_TYPE_Laborers (20798.601345)\n",
      "22. 238 WALLSMATERIAL_MODE_Missing (19573.599010)\n",
      "23. 25 REG_CITY_NOT_LIVE_CITY (18354.636650)\n",
      "24. 28 EXT_SOURCE_1 (17666.908663)\n",
      "25. 75 DEF_30_CNT_SOCIAL_CIRCLE (17529.494720)\n",
      "26. 228 FONDKAPREMONT_MODE_Missing (16453.898871)\n",
      "27. 14 FLAG_WORK_PHONE (13558.081362)\n",
      "28. 83 FLAG_DOCUMENT_6 (12475.803481)\n",
      "29. 74 OBS_30_CNT_SOCIAL_CIRCLE (12200.156510)\n",
      "30. 212 ORGANIZATION_TYPE_Self-employed (10873.861066)\n",
      "31. 159 OCCUPATION_TYPE_Sales staff (9757.714768)\n",
      "32. 231 FONDKAPREMONT_MODE_reg oper account (9567.850882)\n",
      "33. 7 DAYS_BIRTH (9481.775203)\n",
      "34. 110 FLAG_OWN_CAR_Y (9456.417038)\n",
      "35. 76 OBS_60_CNT_SOCIAL_CIRCLE (9390.842291)\n",
      "36. 4 AMT_ANNUITY (9085.533133)\n",
      "37. 8 DAYS_EMPLOYED (9011.925572)\n",
      "38. 3 AMT_CREDIT (8817.157256)\n",
      "39. 10 DAYS_ID_PUBLISH (8760.151942)\n",
      "40. 120 NAME_TYPE_SUITE_Unaccompanied (8618.867309)\n",
      "41. 78 DAYS_LAST_PHONE_CHANGE (8437.902244)\n",
      "42. 168 WEEKDAY_APPR_PROCESS_START_TUESDAY (8197.940593)\n",
      "43. 103 AMT_REQ_CREDIT_BUREAU_QRT (7765.235705)\n",
      "44. 9 DAYS_REGISTRATION (7641.430092)\n",
      "45. 0 SK_ID_CURR (7263.907714)\n",
      "46. 5 AMT_GOODS_PRICE (7113.681653)\n",
      "47. 77 DEF_60_CNT_SOCIAL_CIRCLE (6483.573142)\n",
      "48. 139 NAME_HOUSING_TYPE_House / apartment (5704.467963)\n",
      "49. 2 AMT_INCOME_TOTAL (5592.853426)\n",
      "50. 6 REGION_POPULATION_RELATIVE (5481.672869)\n",
      "51. 104 AMT_REQ_CREDIT_BUREAU_YEAR (5428.114510)\n",
      "52. 167 WEEKDAY_APPR_PROCESS_START_THURSDAY (5220.202224)\n",
      "53. 164 WEEKDAY_APPR_PROCESS_START_MONDAY (4684.064786)\n",
      "54. 18 CNT_FAM_MEMBERS (4572.405308)\n",
      "55. 148 OCCUPATION_TYPE_Drivers (4405.418134)\n",
      "56. 21 HOUR_APPR_PROCESS_START (3897.337419)\n",
      "57. 169 WEEKDAY_APPR_PROCESS_START_WEDNESDAY (3649.814550)\n",
      "58. 52 FLOORSMAX_MODE (3600.856527)\n",
      "59. 11 OWN_CAR_AGE (3345.213972)\n",
      "60. 243 WALLSMATERIAL_MODE_Stone, brick (3089.206039)\n",
      "61. 233 HOUSETYPE_MODE_Missing (2874.878828)\n",
      "62. 27 LIVE_CITY_NOT_WORK_CITY (2155.843646)\n",
      "63. 102 AMT_REQ_CREDIT_BUREAU_MON (2082.322145)\n",
      "64. 163 WEEKDAY_APPR_PROCESS_START_FRIDAY (2065.291753)\n",
      "65. 73 TOTALAREA_MODE (1904.184799)\n",
      "66. 165 WEEKDAY_APPR_PROCESS_START_SATURDAY (1877.650528)\n",
      "67. 136 NAME_FAMILY_STATUS_Single / not married (1860.323086)\n",
      "68. 147 OCCUPATION_TYPE_Core staff (1790.957886)\n",
      "69. 177 ORGANIZATION_TYPE_Construction (1499.971627)\n",
      "70. 40 LANDAREA_AVG (1495.441400)\n",
      "71. 156 OCCUPATION_TYPE_Missing (1459.448630)\n",
      "72. 54 LANDAREA_MODE (1449.588255)\n",
      "73. 33 YEARS_BEGINEXPLUATATION_AVG (1432.353761)\n",
      "74. 32 BASEMENTAREA_AVG (1413.648235)\n",
      "75. 56 LIVINGAREA_MODE (1332.822948)\n",
      "76. 47 YEARS_BEGINEXPLUATATION_MODE (1284.621780)\n",
      "77. 31 APARTMENTS_AVG (1236.630204)\n",
      "78. 45 APARTMENTS_MODE (1181.101288)\n",
      "79. 46 BASEMENTAREA_MODE (1160.893509)\n",
      "80. 137 NAME_FAMILY_STATUS_Widow (1150.505812)\n",
      "81. 114 NAME_TYPE_SUITE_Family (1121.734669)\n",
      "82. 35 COMMONAREA_AVG (1121.261158)\n",
      "83. 44 NONLIVINGAREA_AVG (1119.284375)\n",
      "84. 42 LIVINGAREA_AVG (1118.301222)\n",
      "85. 58 NONLIVINGAREA_MODE (1100.104238)\n",
      "86. 245 EMERGENCYSTATE_MODE_Missing (1025.136476)\n",
      "87. 66 FLOORSMAX_MEDI (1005.596153)\n",
      "88. 34 YEARS_BUILD_AVG (900.525330)\n",
      "89. 49 COMMONAREA_MODE (879.452613)\n",
      "90. 124 NAME_INCOME_TYPE_State servant (855.568717)\n",
      "91. 51 ENTRANCES_MODE (846.037646)\n",
      "92. 41 LIVINGAPARTMENTS_AVG (839.554800)\n",
      "93. 122 NAME_INCOME_TYPE_Commercial associate (828.808598)\n",
      "94. 57 NONLIVINGAPARTMENTS_MODE (809.753248)\n",
      "95. 38 FLOORSMAX_AVG (793.456220)\n",
      "96. 105 NAME_CONTRACT_TYPE_Cash loans (780.350866)\n",
      "97. 55 LIVINGAPARTMENTS_MODE (771.774610)\n",
      "98. 37 ENTRANCES_AVG (733.317660)\n",
      "99. 133 NAME_FAMILY_STATUS_Civil marriage (713.195868)\n",
      "100. 61 YEARS_BEGINEXPLUATATION_MEDI (692.103511)\n",
      "101. 48 YEARS_BUILD_MODE (645.728951)\n",
      "102. 60 BASEMENTAREA_MEDI (631.022550)\n",
      "103. 68 LANDAREA_MEDI (629.216291)\n",
      "104. 72 NONLIVINGAREA_MEDI (620.227158)\n",
      "105. 43 NONLIVINGAPARTMENTS_AVG (617.265802)\n",
      "106. 59 APARTMENTS_MEDI (616.428731)\n",
      "107. 166 WEEKDAY_APPR_PROCESS_START_SUNDAY (552.131033)\n",
      "108. 140 NAME_HOUSING_TYPE_Municipal apartment (528.906528)\n",
      "109. 39 FLOORSMIN_AVG (510.941000)\n",
      "110. 63 COMMONAREA_MEDI (478.728759)\n",
      "111. 70 LIVINGAREA_MEDI (470.320741)\n",
      "112. 130 NAME_EDUCATION_TYPE_Incomplete higher (469.000113)\n",
      "113. 144 OCCUPATION_TYPE_Accountants (443.793448)\n",
      "114. 36 ELEVATORS_AVG (411.376889)\n",
      "115. 50 ELEVATORS_MODE (401.953787)\n",
      "116. 135 NAME_FAMILY_STATUS_Separated (400.756712)\n",
      "117. 131 NAME_EDUCATION_TYPE_Lower secondary (385.787778)\n",
      "118. 69 LIVINGAPARTMENTS_MEDI (348.121180)\n",
      "119. 53 FLOORSMIN_MODE (328.441068)\n",
      "120. 161 OCCUPATION_TYPE_Security staff (326.679658)\n",
      "121. 224 ORGANIZATION_TYPE_Transport: type 3 (318.124190)\n",
      "122. 106 NAME_CONTRACT_TYPE_Revolving loans (316.365755)\n",
      "123. 23 REG_REGION_NOT_WORK_REGION (314.146488)\n",
      "124. 101 AMT_REQ_CREDIT_BUREAU_WEEK (309.390380)\n",
      "125. 112 FLAG_OWN_REALTY_Y (306.134830)\n",
      "126. 85 FLAG_DOCUMENT_8 (293.847591)\n",
      "127. 64 ELEVATORS_MEDI (292.803433)\n",
      "128. 209 ORGANIZATION_TYPE_School (281.345020)\n",
      "129. 181 ORGANIZATION_TYPE_Government (281.088401)\n",
      "130. 62 YEARS_BUILD_MEDI (264.940390)\n",
      "131. 225 ORGANIZATION_TYPE_Transport: type 4 (252.269092)\n",
      "132. 143 NAME_HOUSING_TYPE_With parents (250.263091)\n",
      "133. 150 OCCUPATION_TYPE_High skill tech staff (244.223100)\n",
      "134. 203 ORGANIZATION_TYPE_Other (241.693600)\n",
      "135. 154 OCCUPATION_TYPE_Managers (240.750811)\n",
      "136. 153 OCCUPATION_TYPE_Low-skill Laborers (233.141971)\n",
      "137. 65 ENTRANCES_MEDI (231.681959)\n",
      "138. 208 ORGANIZATION_TYPE_Restaurant (226.662760)\n",
      "139. 142 NAME_HOUSING_TYPE_Rented apartment (225.055139)\n",
      "140. 17 FLAG_EMAIL (223.949930)\n",
      "141. 201 ORGANIZATION_TYPE_Military (215.621001)\n",
      "142. 237 WALLSMATERIAL_MODE_Block (208.018930)\n",
      "143. 221 ORGANIZATION_TYPE_Trade: type 7 (199.386130)\n",
      "144. 82 FLAG_DOCUMENT_5 (196.476581)\n",
      "145. 118 NAME_TYPE_SUITE_Other_B (194.240969)\n",
      "146. 95 FLAG_DOCUMENT_18 (185.101569)\n",
      "147. 206 ORGANIZATION_TYPE_Realtor (184.462101)\n",
      "148. 93 FLAG_DOCUMENT_16 (184.098801)\n",
      "149. 100 AMT_REQ_CREDIT_BUREAU_DAY (180.840189)\n",
      "150. 174 ORGANIZATION_TYPE_Business Entity Type 2 (177.142679)\n",
      "151. 145 OCCUPATION_TYPE_Cleaning staff (175.256811)\n",
      "152. 119 NAME_TYPE_SUITE_Spouse, partner (169.540859)\n",
      "153. 198 ORGANIZATION_TYPE_Kindergarten (167.322883)\n",
      "154. 113 NAME_TYPE_SUITE_Children (161.059831)\n",
      "155. 67 FLOORSMIN_MEDI (159.611440)\n",
      "156. 24 LIVE_REGION_NOT_WORK_REGION (155.693180)\n",
      "157. 71 NONLIVINGAPARTMENTS_MEDI (155.313299)\n",
      "158. 232 FONDKAPREMONT_MODE_reg oper spec account (152.369641)\n",
      "159. 230 FONDKAPREMONT_MODE_org spec account (149.024060)\n",
      "160. 217 ORGANIZATION_TYPE_Trade: type 3 (142.760952)\n",
      "161. 200 ORGANIZATION_TYPE_Medicine (138.609149)\n",
      "162. 196 ORGANIZATION_TYPE_Industry: type 9 (135.377121)\n",
      "163. 155 OCCUPATION_TYPE_Medicine staff (124.073560)\n",
      "164. 205 ORGANIZATION_TYPE_Postal (123.449250)\n",
      "165. 162 OCCUPATION_TYPE_Waiters/barmen staff (123.248119)\n",
      "166. 138 NAME_HOUSING_TYPE_Co-op apartment (120.721021)\n",
      "167. 22 REG_REGION_NOT_LIVE_REGION (115.948240)\n",
      "168. 99 AMT_REQ_CREDIT_BUREAU_HOUR (107.934601)\n",
      "169. 157 OCCUPATION_TYPE_Private service staff (105.153020)\n",
      "170. 191 ORGANIZATION_TYPE_Industry: type 4 (103.365111)\n",
      "171. 202 ORGANIZATION_TYPE_Mobile (101.185901)\n",
      "172. 141 NAME_HOUSING_TYPE_Office apartment (100.875790)\n",
      "173. 204 ORGANIZATION_TYPE_Police (95.146880)\n",
      "174. 229 FONDKAPREMONT_MODE_not specified (95.106390)\n",
      "175. 171 ORGANIZATION_TYPE_Agriculture (92.824059)\n",
      "176. 146 OCCUPATION_TYPE_Cooking staff (91.158031)\n",
      "177. 126 NAME_INCOME_TYPE_Unemployed (91.142882)\n",
      "178. 223 ORGANIZATION_TYPE_Transport: type 2 (90.772579)\n",
      "179. 117 NAME_TYPE_SUITE_Other_A (90.511590)\n",
      "180. 184 ORGANIZATION_TYPE_Industry: type 1 (87.845649)\n",
      "181. 241 WALLSMATERIAL_MODE_Others (86.376160)\n",
      "182. 186 ORGANIZATION_TYPE_Industry: type 11 (86.352881)\n",
      "183. 183 ORGANIZATION_TYPE_Housing (84.474990)\n",
      "184. 173 ORGANIZATION_TYPE_Business Entity Type 1 (84.015851)\n",
      "185. 226 ORGANIZATION_TYPE_University (83.458661)\n",
      "186. 190 ORGANIZATION_TYPE_Industry: type 3 (77.518900)\n",
      "187. 197 ORGANIZATION_TYPE_Insurance (75.431969)\n",
      "188. 86 FLAG_DOCUMENT_9 (75.327551)\n",
      "189. 199 ORGANIZATION_TYPE_Legal Services (74.226572)\n",
      "190. 172 ORGANIZATION_TYPE_Bank (71.030149)\n",
      "191. 235 HOUSETYPE_MODE_specific housing (69.011920)\n",
      "192. 178 ORGANIZATION_TYPE_Culture (67.038100)\n",
      "193. 91 FLAG_DOCUMENT_14 (64.028050)\n",
      "194. 176 ORGANIZATION_TYPE_Cleaning (62.700280)\n",
      "195. 239 WALLSMATERIAL_MODE_Mixed (62.216319)\n",
      "196. 90 FLAG_DOCUMENT_13 (58.434149)\n",
      "197. 216 ORGANIZATION_TYPE_Trade: type 2 (56.452549)\n",
      "198. 182 ORGANIZATION_TYPE_Hotel (53.830900)\n",
      "199. 244 WALLSMATERIAL_MODE_Wooden (51.770430)\n",
      "200. 210 ORGANIZATION_TYPE_Security (51.738251)\n",
      "201. 240 WALLSMATERIAL_MODE_Monolithic (48.637980)\n",
      "202. 13 FLAG_EMP_PHONE (46.183540)\n",
      "203. 160 OCCUPATION_TYPE_Secretaries (45.750121)\n",
      "204. 79 FLAG_DOCUMENT_2 (41.342500)\n",
      "205. 187 ORGANIZATION_TYPE_Industry: type 12 (40.863510)\n",
      "206. 88 FLAG_DOCUMENT_11 (40.549300)\n",
      "207. 180 ORGANIZATION_TYPE_Emergency (36.513460)\n",
      "208. 194 ORGANIZATION_TYPE_Industry: type 7 (34.804880)\n",
      "209. 211 ORGANIZATION_TYPE_Security Ministries (33.752060)\n",
      "210. 213 ORGANIZATION_TYPE_Services (33.510300)\n",
      "211. 92 FLAG_DOCUMENT_15 (32.501470)\n",
      "212. 214 ORGANIZATION_TYPE_Telecom (31.883110)\n",
      "213. 247 EMERGENCYSTATE_MODE_Yes (31.746410)\n",
      "214. 215 ORGANIZATION_TYPE_Trade: type 1 (31.103720)\n",
      "215. 128 NAME_EDUCATION_TYPE_Academic degree (30.786860)\n",
      "216. 189 ORGANIZATION_TYPE_Industry: type 2 (26.944970)\n",
      "217. 170 ORGANIZATION_TYPE_Advertising (25.283230)\n",
      "218. 151 OCCUPATION_TYPE_IT staff (20.647290)\n",
      "219. 236 HOUSETYPE_MODE_terraced house (19.811530)\n",
      "220. 15 FLAG_CONT_MOBILE (19.562610)\n",
      "221. 98 FLAG_DOCUMENT_21 (19.055530)\n",
      "222. 179 ORGANIZATION_TYPE_Electricity (16.022420)\n",
      "223. 192 ORGANIZATION_TYPE_Industry: type 5 (14.444900)\n",
      "224. 220 ORGANIZATION_TYPE_Trade: type 6 (14.398040)\n",
      "225. 115 NAME_TYPE_SUITE_Group of people (7.220860)\n",
      "226. 207 ORGANIZATION_TYPE_Religion (7.164990)\n",
      "227. 96 FLAG_DOCUMENT_19 (6.969300)\n",
      "228. 116 NAME_TYPE_SUITE_Missing (5.465230)\n",
      "229. 219 ORGANIZATION_TYPE_Trade: type 5 (0.000000)\n",
      "230. 12 FLAG_MOBIL (0.000000)\n",
      "231. 222 ORGANIZATION_TYPE_Transport: type 1 (0.000000)\n",
      "232. 195 ORGANIZATION_TYPE_Industry: type 8 (0.000000)\n",
      "233. 193 ORGANIZATION_TYPE_Industry: type 6 (0.000000)\n",
      "234. 227 ORGANIZATION_TYPE_XNA (0.000000)\n",
      "235. 218 ORGANIZATION_TYPE_Trade: type 4 (0.000000)\n",
      "236. 81 FLAG_DOCUMENT_4 (0.000000)\n",
      "237. 188 ORGANIZATION_TYPE_Industry: type 13 (0.000000)\n",
      "238. 185 ORGANIZATION_TYPE_Industry: type 10 (0.000000)\n",
      "239. 84 FLAG_DOCUMENT_7 (0.000000)\n",
      "240. 158 OCCUPATION_TYPE_Realty agents (0.000000)\n",
      "241. 149 OCCUPATION_TYPE_HR staff (0.000000)\n",
      "242. 125 NAME_INCOME_TYPE_Student (0.000000)\n",
      "243. 121 NAME_INCOME_TYPE_Businessman (0.000000)\n",
      "244. 97 FLAG_DOCUMENT_20 (0.000000)\n",
      "245. 94 FLAG_DOCUMENT_17 (0.000000)\n",
      "246. 89 FLAG_DOCUMENT_12 (0.000000)\n",
      "247. 87 FLAG_DOCUMENT_10 (0.000000)\n",
      "248. 123 NAME_INCOME_TYPE_Pensioner (0.000000)\n"
     ]
    }
   ],
   "source": [
    "for f in range(X_train.shape[1]):\n",
    "    print(\"%d. %d %s (%f)\" % (f + 1, indices[f], final_train_encoded.columns[indices[f]], bst.feature_importance(\"gain\")[indices[f]]))"
   ]
  },
  {
   "cell_type": "code",
   "execution_count": null,
   "metadata": {},
   "outputs": [],
   "source": [
    "#FINAL TRAIN\n",
    "train_data = lgb.Dataset(data=x_res,label=y_res)"
   ]
  },
  {
   "cell_type": "code",
   "execution_count": 109,
   "metadata": {},
   "outputs": [],
   "source": [
    "#FINAL\n",
    "param = {'num_leaves':128, 'num_trees':1024, 'objective':'binary'}\n",
    "param['metric'] = ['roc_curve','binary_logloss']\n",
    "\n",
    "bst = lgb.train(param, train_data, num_boost_round=150,keep_training_booster=True)"
   ]
  },
  {
   "cell_type": "code",
   "execution_count": 110,
   "metadata": {},
   "outputs": [],
   "source": [
    "#FINAL\n",
    "ypred = bst.predict(final_test_encoded)"
   ]
  },
  {
   "cell_type": "code",
   "execution_count": 111,
   "metadata": {},
   "outputs": [],
   "source": [
    "SubmissionLGBM=pd.DataFrame({'SK_ID_CURR':final_test_encoded.SK_ID_CURR,'TARGET':ypred.round(1)})"
   ]
  },
  {
   "cell_type": "code",
   "execution_count": 112,
   "metadata": {},
   "outputs": [
    {
     "data": {
      "text/html": [
       "<div>\n",
       "<style scoped>\n",
       "    .dataframe tbody tr th:only-of-type {\n",
       "        vertical-align: middle;\n",
       "    }\n",
       "\n",
       "    .dataframe tbody tr th {\n",
       "        vertical-align: top;\n",
       "    }\n",
       "\n",
       "    .dataframe thead th {\n",
       "        text-align: right;\n",
       "    }\n",
       "</style>\n",
       "<table border=\"1\" class=\"dataframe\">\n",
       "  <thead>\n",
       "    <tr style=\"text-align: right;\">\n",
       "      <th></th>\n",
       "      <th>SK_ID_CURR</th>\n",
       "      <th>TARGET</th>\n",
       "    </tr>\n",
       "  </thead>\n",
       "  <tbody>\n",
       "    <tr>\n",
       "      <th>0</th>\n",
       "      <td>100001</td>\n",
       "      <td>0.0</td>\n",
       "    </tr>\n",
       "    <tr>\n",
       "      <th>1</th>\n",
       "      <td>100005</td>\n",
       "      <td>0.2</td>\n",
       "    </tr>\n",
       "    <tr>\n",
       "      <th>2</th>\n",
       "      <td>100013</td>\n",
       "      <td>0.1</td>\n",
       "    </tr>\n",
       "    <tr>\n",
       "      <th>3</th>\n",
       "      <td>100028</td>\n",
       "      <td>0.0</td>\n",
       "    </tr>\n",
       "    <tr>\n",
       "      <th>4</th>\n",
       "      <td>100038</td>\n",
       "      <td>0.1</td>\n",
       "    </tr>\n",
       "  </tbody>\n",
       "</table>\n",
       "</div>"
      ],
      "text/plain": [
       "   SK_ID_CURR  TARGET\n",
       "0      100001     0.0\n",
       "1      100005     0.2\n",
       "2      100013     0.1\n",
       "3      100028     0.0\n",
       "4      100038     0.1"
      ]
     },
     "execution_count": 112,
     "metadata": {},
     "output_type": "execute_result"
    }
   ],
   "source": [
    "SubmissionLGBM.head()"
   ]
  },
  {
   "cell_type": "code",
   "execution_count": 113,
   "metadata": {},
   "outputs": [],
   "source": [
    "SubmissionLGBM.to_csv(\"SubmissionLGBM_SMOTE_R150.csv\",sep=',',encoding='utf-8',index=False)"
   ]
  },
  {
   "cell_type": "code",
   "execution_count": null,
   "metadata": {},
   "outputs": [],
   "source": []
  },
  {
   "cell_type": "code",
   "execution_count": null,
   "metadata": {},
   "outputs": [],
   "source": [
    "#Training and evaluating based on top features only"
   ]
  },
  {
   "cell_type": "code",
   "execution_count": 236,
   "metadata": {},
   "outputs": [],
   "source": [
    "topfeatures=final_train_encoded[final_train_encoded.columns[indices[:150]].tolist()]"
   ]
  },
  {
   "cell_type": "code",
   "execution_count": 237,
   "metadata": {},
   "outputs": [],
   "source": [
    "sm=SMOTE(random_state=15,ratio='minority')\n",
    "x_res,y_res=sm.fit_sample(X=topfeatures,y=final_train_encoded[\"TARGET\"])"
   ]
  },
  {
   "cell_type": "code",
   "execution_count": 238,
   "metadata": {},
   "outputs": [],
   "source": [
    "min_max_scaler = preprocessing.MinMaxScaler()\n",
    "Xx = min_max_scaler.fit_transform(x_res)"
   ]
  },
  {
   "cell_type": "code",
   "execution_count": 239,
   "metadata": {},
   "outputs": [],
   "source": [
    "X_train, X_test, y_train, y_test = train_test_split(Xx, y_res, test_size=0.33, random_state=42)"
   ]
  },
  {
   "cell_type": "code",
   "execution_count": 240,
   "metadata": {},
   "outputs": [],
   "source": [
    "train_data = lgb.Dataset(data=X_train,label=y_train)"
   ]
  },
  {
   "cell_type": "code",
   "execution_count": 241,
   "metadata": {},
   "outputs": [],
   "source": [
    "param = {'num_leaves':128, 'num_trees':1024, 'objective':'binary'}\n",
    "param['metric'] = ['roc_curve','binary_logloss']"
   ]
  },
  {
   "cell_type": "code",
   "execution_count": 242,
   "metadata": {},
   "outputs": [
    {
     "name": "stderr",
     "output_type": "stream",
     "text": [
      "D:\\product\\Anaconda\\lib\\site-packages\\lightgbm\\engine.py:102: UserWarning: Found `num_trees` in params. Will use it instead of argument\n",
      "  warnings.warn(\"Found `{}` in params. Will use it instead of argument\".format(alias))\n"
     ]
    }
   ],
   "source": [
    "#EVALUATING \n",
    "\n",
    "bst = lgb.train(param, train_data, num_boost_round=200)"
   ]
  },
  {
   "cell_type": "code",
   "execution_count": 243,
   "metadata": {},
   "outputs": [],
   "source": [
    "#EVALUATING\n",
    "ypred = bst.predict(X_test)"
   ]
  },
  {
   "cell_type": "code",
   "execution_count": 244,
   "metadata": {},
   "outputs": [
    {
     "data": {
      "text/plain": [
       "0.955566989864557"
      ]
     },
     "execution_count": 244,
     "metadata": {},
     "output_type": "execute_result"
    }
   ],
   "source": [
    "accuracy_score(y_test, np.round(ypred))"
   ]
  },
  {
   "cell_type": "code",
   "execution_count": 245,
   "metadata": {},
   "outputs": [
    {
     "data": {
      "text/plain": [
       "0.9555303106020003"
      ]
     },
     "execution_count": 245,
     "metadata": {},
     "output_type": "execute_result"
    }
   ],
   "source": [
    "roc_auc_score(y_test,np.round(ypred))"
   ]
  },
  {
   "cell_type": "code",
   "execution_count": 246,
   "metadata": {},
   "outputs": [
    {
     "data": {
      "text/plain": [
       "array([[93044,   326],\n",
       "       [ 7964, 85239]], dtype=int64)"
      ]
     },
     "execution_count": 246,
     "metadata": {},
     "output_type": "execute_result"
    }
   ],
   "source": [
    "confusion_matrix(y_test,np.round(ypred))"
   ]
  },
  {
   "cell_type": "code",
   "execution_count": 247,
   "metadata": {},
   "outputs": [
    {
     "data": {
      "image/png": "[encoded data removed]",
      "text/plain": [
       "<Figure size 432x288 with 1 Axes>"
      ]
     },
     "metadata": {},
     "output_type": "display_data"
    }
   ],
   "source": [
    "fpr, tpr, thresholdsValid = roc_curve(y_test,np.round(ypred))\n",
    "plt.plot(fpr, tpr, label='LightGBM')\n",
    "plt.legend()\n",
    "plt.plot([0, 1], [0, 1],'r--')\n",
    "plt.ylabel('True positive rate.')\n",
    "plt.xlabel('False positive rate')\n",
    "plt.show()"
   ]
  },
  {
   "cell_type": "code",
   "execution_count": 248,
   "metadata": {},
   "outputs": [],
   "source": [
    "train_data = lgb.Dataset(data=Xx,label=y_res)"
   ]
  },
  {
   "cell_type": "code",
   "execution_count": 249,
   "metadata": {},
   "outputs": [],
   "source": [
    "param = {'num_leaves':128, 'num_trees':1024, 'objective':'binary'}\n",
    "param['metric'] = ['roc_curve','binary_logloss']"
   ]
  },
  {
   "cell_type": "code",
   "execution_count": 250,
   "metadata": {},
   "outputs": [
    {
     "name": "stderr",
     "output_type": "stream",
     "text": [
      "D:\\product\\Anaconda\\lib\\site-packages\\lightgbm\\engine.py:102: UserWarning: Found `num_trees` in params. Will use it instead of argument\n",
      "  warnings.warn(\"Found `{}` in params. Will use it instead of argument\".format(alias))\n"
     ]
    }
   ],
   "source": [
    "bst = lgb.train(param, train_data, num_boost_round=100)"
   ]
  },
  {
   "cell_type": "code",
   "execution_count": 253,
   "metadata": {},
   "outputs": [],
   "source": [
    "ypred = bst.predict(final_test_encoded)"
   ]
  },
  {
   "cell_type": "code",
   "execution_count": 254,
   "metadata": {},
   "outputs": [],
   "source": [
    "SubmissionLGBM=pd.DataFrame({'SK_ID_CURR':final_test_encoded.SK_ID_CURR,'TARGET':ypred.round(1)})"
   ]
  },
  {
   "cell_type": "code",
   "execution_count": 255,
   "metadata": {},
   "outputs": [],
   "source": [
    "SubmissionLGBM.to_csv(\"SubmissionLGBM_IMP_F.csv\",sep=',',encoding='utf-8',index=False)"
   ]
  },
  {
   "cell_type": "code",
   "execution_count": null,
   "metadata": {},
   "outputs": [],
   "source": []
  },
  {
   "cell_type": "code",
   "execution_count": 257,
   "metadata": {},
   "outputs": [
    {
     "name": "stdout",
     "output_type": "stream",
     "text": [
      "[10]\tcv_agg's binary_logloss: 0.316371 + 0.000988097\n",
      "[20]\tcv_agg's binary_logloss: 0.206996 + 0.00154699\n",
      "[30]\tcv_agg's binary_logloss: 0.166288 + 0.00170676\n",
      "[40]\tcv_agg's binary_logloss: 0.149979 + 0.00180804\n",
      "[50]\tcv_agg's binary_logloss: 0.142636 + 0.00182498\n",
      "[60]\tcv_agg's binary_logloss: 0.139233 + 0.00187857\n",
      "[70]\tcv_agg's binary_logloss: 0.137452 + 0.00189103\n",
      "[80]\tcv_agg's binary_logloss: 0.136417 + 0.00189001\n",
      "[90]\tcv_agg's binary_logloss: 0.1359 + 0.00189904\n",
      "[100]\tcv_agg's binary_logloss: 0.135624 + 0.00183192\n"
     ]
    }
   ],
   "source": [
    "cv_results = lgb.cv(param, \n",
    "                     train_data, # Using all training data\n",
    "                     num_boost_round = 100, \n",
    "                     nfold = 20, \n",
    "                     stratified = False, \n",
    "                     shuffle = True, \n",
    "                     early_stopping_rounds = 20, \n",
    "                     verbose_eval = 10, \n",
    "                     show_stdv = True, \n",
    "                     seed = 0)"
   ]
  },
  {
   "cell_type": "code",
   "execution_count": null,
   "metadata": {},
   "outputs": [],
   "source": []
  },
  {
   "cell_type": "code",
   "execution_count": null,
   "metadata": {},
   "outputs": [],
   "source": []
  },
  {
   "cell_type": "code",
   "execution_count": null,
   "metadata": {},
   "outputs": [],
   "source": []
  },
  {
   "cell_type": "code",
   "execution_count": null,
   "metadata": {},
   "outputs": [],
   "source": []
  }
 ],
 "metadata": {
  "kernelspec": {
   "display_name": "Python 3",
   "language": "python",
   "name": "python3"
  },
  "language_info": {
   "codemirror_mode": {
    "name": "ipython",
    "version": 3
   },
   "file_extension": ".py",
   "mimetype": "text/x-python",
   "name": "python",
   "nbconvert_exporter": "python",
   "pygments_lexer": "ipython3",
   "version": "3.6.5"
  }
 },
 "nbformat": 4,
 "nbformat_minor": 2
}
